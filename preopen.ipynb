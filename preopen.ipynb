{
 "cells": [
  {
   "cell_type": "code",
   "execution_count": null,
   "metadata": {},
   "outputs": [],
   "source": [
    "# set all schema for today\n",
    "import datetime\n",
    "from pyq import q,K\n",
    "\n",
    "todate=datetime.date.today().strftime('%Y.%m.%d')\n",
    "\n",
    "path_qot=(\"`:/kdb/data/{}/quote/ set qotschema\".format(todate))\n",
    "%q qotschema:([] instrument_token:`long$();last_price:`float$();last_quantity:`long$();average_price:`float$();volume:`long$();buy_quantity:`long$();sell_quantity:`long$();open:`float$();high:`float$();low:`float$();close:`float$();change:`float$();last_trade_time:`time$();oi:`long$();oi_day_high:`long$();oi_day_low:`long$();time:`time$();bdq1:`long$();bdp1:`float$();bdo1:`long$();bdq2:`long$();bdp2:`float$();bdo2:`long$();bdq3:`long$();bdp3:`float$();bdo3:`long$();bdq4:`long$();bdp4:`float$();bdo4:`long$();bdq5:`long$();bdp5:`float$();bdo5:`long$();sdq1:`long$();sdp1:`float$();sdo1:`long$();sdq2:`long$();sdp2:`float$();sdo2:`long$();sdq3:`long$();sdp3:`float$();sdo3:`long$();sdq4:`long$();sdp4:`float$();sdo4:`long$();sdq5:`long$();sdp5:`float$();sdo5:`long$())\n",
    "q.path_qot=path_qot\n",
    "%q eval parse(string path_qot)  \n",
    "\n",
    "path_inx=(\"`:/kdb/data/{}/inx/ set inxschema\".format(todate))\n",
    "%q inxschema:([] instrument_token:`long$();last_price:`float$();high:`float$();low:`float$();open:`float$();close:`float$();change:`float$();time:`time$())\n",
    "q.path_inx=path_inx\n",
    "%q eval parse(string path_inx)  \n",
    "\n",
    "path_optn=(\"`:/kdb/data/{}/optn/ set optnschema\".format(todate))\n",
    "%q optnschema:([] instrument_token:`long$();last_price:`float$();last_quantity:`long$();average_price:`float$();volume:`long$();buy_quantity:`long$();sell_quantity:`long$();open:`float$();high:`float$();low:`float$();close:`float$();change:`float$();last_trade_time:`time$();oi:`long$();oi_day_high:`long$();oi_day_low:`long$();time:`time$();bdq1:`long$();bdp1:`float$();bdo1:`long$();bdq2:`long$();bdp2:`float$();bdo2:`long$();bdq3:`long$();bdp3:`float$();bdo3:`long$();bdq4:`long$();bdp4:`float$();bdo4:`long$();bdq5:`long$();bdp5:`float$();bdo5:`long$();sdq1:`long$();sdp1:`float$();sdo1:`long$();sdq2:`long$();sdp2:`float$();sdo2:`long$();sdq3:`long$();sdp3:`float$();sdo3:`long$();sdq4:`long$();sdp4:`float$();sdo4:`long$();sdq5:`long$();sdp5:`float$();sdo5:`long$())\n",
    "q.path_optn=path_optn\n",
    "%q eval parse(string path_optn)  \n",
    "\n",
    "print(\" ===== Run Competed : {}======\".format(datetime.datetime.now()))\n"
   ]
  },
  {
   "cell_type": "code",
   "execution_count": null,
   "metadata": {},
   "outputs": [],
   "source": []
  }
 ],
 "metadata": {
  "kernelspec": {
   "display_name": "PyQ 3",
   "language": "python",
   "name": "pyq_3"
  },
  "language_info": {
   "codemirror_mode": {
    "name": "ipython",
    "version": 3
   },
   "file_extension": ".py",
   "mimetype": "text/x-python",
   "name": "python",
   "nbconvert_exporter": "python",
   "pygments_lexer": "ipython3",
   "version": "3.7.3"
  },
  "toc": {
   "base_numbering": 1,
   "nav_menu": {},
   "number_sections": true,
   "sideBar": true,
   "skip_h1_title": false,
   "title_cell": "Table of Contents",
   "title_sidebar": "Contents",
   "toc_cell": false,
   "toc_position": {},
   "toc_section_display": true,
   "toc_window_display": false
  }
 },
 "nbformat": 4,
 "nbformat_minor": 2
}
